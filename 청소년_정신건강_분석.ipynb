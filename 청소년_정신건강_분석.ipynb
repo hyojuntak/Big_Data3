{
  "nbformat": 4,
  "nbformat_minor": 0,
  "metadata": {
    "colab": {
      "name": "청소년 정신건강 분석.ipynb",
      "provenance": [],
      "include_colab_link": true
    },
    "kernelspec": {
      "name": "python3",
      "display_name": "Python 3"
    }
  },
  "cells": [
    {
      "cell_type": "markdown",
      "metadata": {
        "id": "view-in-github",
        "colab_type": "text"
      },
      "source": [
        "<a href=\"https://colab.research.google.com/github/hyojuntak/Big_Data3/blob/main/%EC%B2%AD%EC%86%8C%EB%85%84_%EC%A0%95%EC%8B%A0%EA%B1%B4%EA%B0%95_%EB%B6%84%EC%84%9D.ipynb\" target=\"_parent\"><img src=\"https://colab.research.google.com/assets/colab-badge.svg\" alt=\"Open In Colab\"/></a>"
      ]
    },
    {
      "cell_type": "markdown",
      "metadata": {
        "id": "ZGXnd2tfdwsz"
      },
      "source": [
        "서울시 청소년 정신건강 분석\n",
        "\n",
        "\n"
      ]
    },
    {
      "cell_type": "code",
      "metadata": {
        "id": "2KVj72oDdsm2"
      },
      "source": [
        "import pandas as pd"
      ],
      "execution_count": null,
      "outputs": []
    },
    {
      "cell_type": "code",
      "metadata": {
        "id": "r0z38WXWhvAb"
      },
      "source": [
        "import numpy as np"
      ],
      "execution_count": null,
      "outputs": []
    },
    {
      "cell_type": "code",
      "metadata": {
        "id": "_76aXUsvhy2h"
      },
      "source": [
        "# 간단 문법 복습"
      ],
      "execution_count": null,
      "outputs": []
    },
    {
      "cell_type": "code",
      "metadata": {
        "id": "roYU4Y7-h9kh"
      },
      "source": [
        "dates = pd.date_range('20190301', periods=6)"
      ],
      "execution_count": null,
      "outputs": []
    },
    {
      "cell_type": "code",
      "metadata": {
        "id": "rWzKQBVFiKHJ",
        "outputId": "1a225a01-1d95-452e-b0d5-ac5ddc2100a2",
        "colab": {
          "base_uri": "https://localhost:8080/"
        }
      },
      "source": [
        "dates"
      ],
      "execution_count": null,
      "outputs": [
        {
          "output_type": "execute_result",
          "data": {
            "text/plain": [
              "DatetimeIndex(['2019-03-01', '2019-03-02', '2019-03-03', '2019-03-04',\n",
              "               '2019-03-05', '2019-03-06'],\n",
              "              dtype='datetime64[ns]', freq='D')"
            ]
          },
          "metadata": {
            "tags": []
          },
          "execution_count": 5
        }
      ]
    },
    {
      "cell_type": "code",
      "metadata": {
        "id": "GsMWOXDgiK3B",
        "outputId": "50eb4d21-de31-4551-ac35-180d59ab7401",
        "colab": {
          "base_uri": "https://localhost:8080/",
          "height": 234
        }
      },
      "source": [
        "df  = pd.DataFrame(np.random.randn(6,4), index=dates, columns=['A','B','C','D'])   # 데이터 프레임 생성\n",
        "df"
      ],
      "execution_count": null,
      "outputs": [
        {
          "output_type": "execute_result",
          "data": {
            "text/html": [
              "<div>\n",
              "<style scoped>\n",
              "    .dataframe tbody tr th:only-of-type {\n",
              "        vertical-align: middle;\n",
              "    }\n",
              "\n",
              "    .dataframe tbody tr th {\n",
              "        vertical-align: top;\n",
              "    }\n",
              "\n",
              "    .dataframe thead th {\n",
              "        text-align: right;\n",
              "    }\n",
              "</style>\n",
              "<table border=\"1\" class=\"dataframe\">\n",
              "  <thead>\n",
              "    <tr style=\"text-align: right;\">\n",
              "      <th></th>\n",
              "      <th>A</th>\n",
              "      <th>B</th>\n",
              "      <th>C</th>\n",
              "      <th>D</th>\n",
              "    </tr>\n",
              "  </thead>\n",
              "  <tbody>\n",
              "    <tr>\n",
              "      <th>2019-03-01</th>\n",
              "      <td>-2.999731</td>\n",
              "      <td>-0.381982</td>\n",
              "      <td>0.127164</td>\n",
              "      <td>-0.749784</td>\n",
              "    </tr>\n",
              "    <tr>\n",
              "      <th>2019-03-02</th>\n",
              "      <td>-0.178230</td>\n",
              "      <td>-0.094589</td>\n",
              "      <td>2.043345</td>\n",
              "      <td>0.863583</td>\n",
              "    </tr>\n",
              "    <tr>\n",
              "      <th>2019-03-03</th>\n",
              "      <td>0.618266</td>\n",
              "      <td>-0.005946</td>\n",
              "      <td>0.545275</td>\n",
              "      <td>0.450738</td>\n",
              "    </tr>\n",
              "    <tr>\n",
              "      <th>2019-03-04</th>\n",
              "      <td>-0.887986</td>\n",
              "      <td>-0.772198</td>\n",
              "      <td>1.157464</td>\n",
              "      <td>-0.300672</td>\n",
              "    </tr>\n",
              "    <tr>\n",
              "      <th>2019-03-05</th>\n",
              "      <td>-1.080972</td>\n",
              "      <td>-1.269124</td>\n",
              "      <td>-0.216370</td>\n",
              "      <td>0.488687</td>\n",
              "    </tr>\n",
              "    <tr>\n",
              "      <th>2019-03-06</th>\n",
              "      <td>-0.772260</td>\n",
              "      <td>1.158042</td>\n",
              "      <td>2.219294</td>\n",
              "      <td>0.556490</td>\n",
              "    </tr>\n",
              "  </tbody>\n",
              "</table>\n",
              "</div>"
            ],
            "text/plain": [
              "                   A         B         C         D\n",
              "2019-03-01 -2.999731 -0.381982  0.127164 -0.749784\n",
              "2019-03-02 -0.178230 -0.094589  2.043345  0.863583\n",
              "2019-03-03  0.618266 -0.005946  0.545275  0.450738\n",
              "2019-03-04 -0.887986 -0.772198  1.157464 -0.300672\n",
              "2019-03-05 -1.080972 -1.269124 -0.216370  0.488687\n",
              "2019-03-06 -0.772260  1.158042  2.219294  0.556490"
            ]
          },
          "metadata": {
            "tags": []
          },
          "execution_count": 6
        }
      ]
    },
    {
      "cell_type": "code",
      "metadata": {
        "id": "_rFSMTvAio4Z",
        "outputId": "23c9ad6b-3eed-4880-ac55-8112e67c8027",
        "colab": {
          "base_uri": "https://localhost:8080/"
        }
      },
      "source": [
        "type(df)   #  데이터 타입 확인"
      ],
      "execution_count": null,
      "outputs": [
        {
          "output_type": "execute_result",
          "data": {
            "text/plain": [
              "pandas.core.frame.DataFrame"
            ]
          },
          "metadata": {
            "tags": []
          },
          "execution_count": 7
        }
      ]
    },
    {
      "cell_type": "code",
      "metadata": {
        "id": "afr-ZoPPix5C",
        "outputId": "e7fb673e-f46f-49cf-9cf6-95d5712d6abf",
        "colab": {
          "base_uri": "https://localhost:8080/"
        }
      },
      "source": [
        "df.columns  # 데이터 프레임에 컬럼 확인"
      ],
      "execution_count": null,
      "outputs": [
        {
          "output_type": "execute_result",
          "data": {
            "text/plain": [
              "Index(['A', 'B', 'C', 'D'], dtype='object')"
            ]
          },
          "metadata": {
            "tags": []
          },
          "execution_count": 8
        }
      ]
    },
    {
      "cell_type": "code",
      "metadata": {
        "id": "AhgMvxdli-OR",
        "outputId": "8b23cd02-528b-4d43-cc33-9a820b5ed0ff",
        "colab": {
          "base_uri": "https://localhost:8080/"
        }
      },
      "source": [
        "df.index   # 데이터 프레임의 인덱스 확인"
      ],
      "execution_count": null,
      "outputs": [
        {
          "output_type": "execute_result",
          "data": {
            "text/plain": [
              "DatetimeIndex(['2019-03-01', '2019-03-02', '2019-03-03', '2019-03-04',\n",
              "               '2019-03-05', '2019-03-06'],\n",
              "              dtype='datetime64[ns]', freq='D')"
            ]
          },
          "metadata": {
            "tags": []
          },
          "execution_count": 9
        }
      ]
    },
    {
      "cell_type": "code",
      "metadata": {
        "id": "ECfX9YKtjCbZ",
        "outputId": "ab02a1db-0069-47f7-e2b6-66694ae8d0e2",
        "colab": {
          "base_uri": "https://localhost:8080/"
        }
      },
      "source": [
        "df.values   #데이터 프레임의 값들 확인"
      ],
      "execution_count": null,
      "outputs": [
        {
          "output_type": "execute_result",
          "data": {
            "text/plain": [
              "array([[-2.99973149, -0.38198201,  0.12716388, -0.74978385],\n",
              "       [-0.17823012, -0.09458887,  2.04334517,  0.86358311],\n",
              "       [ 0.61826577, -0.00594615,  0.54527511,  0.45073818],\n",
              "       [-0.88798559, -0.77219757,  1.15746369, -0.30067201],\n",
              "       [-1.08097156, -1.26912449, -0.21637021,  0.48868707],\n",
              "       [-0.7722601 ,  1.15804187,  2.21929429,  0.55648977]])"
            ]
          },
          "metadata": {
            "tags": []
          },
          "execution_count": 10
        }
      ]
    },
    {
      "cell_type": "code",
      "metadata": {
        "id": "jwT0porKjUUQ",
        "outputId": "86ca48c9-9486-4312-b74d-ae5e3f8117de",
        "colab": {
          "base_uri": "https://localhost:8080/",
          "height": 296
        }
      },
      "source": [
        "df.describe()  #데이터 프레임 분석"
      ],
      "execution_count": null,
      "outputs": [
        {
          "output_type": "execute_result",
          "data": {
            "text/html": [
              "<div>\n",
              "<style scoped>\n",
              "    .dataframe tbody tr th:only-of-type {\n",
              "        vertical-align: middle;\n",
              "    }\n",
              "\n",
              "    .dataframe tbody tr th {\n",
              "        vertical-align: top;\n",
              "    }\n",
              "\n",
              "    .dataframe thead th {\n",
              "        text-align: right;\n",
              "    }\n",
              "</style>\n",
              "<table border=\"1\" class=\"dataframe\">\n",
              "  <thead>\n",
              "    <tr style=\"text-align: right;\">\n",
              "      <th></th>\n",
              "      <th>A</th>\n",
              "      <th>B</th>\n",
              "      <th>C</th>\n",
              "      <th>D</th>\n",
              "    </tr>\n",
              "  </thead>\n",
              "  <tbody>\n",
              "    <tr>\n",
              "      <th>count</th>\n",
              "      <td>6.000000</td>\n",
              "      <td>6.000000</td>\n",
              "      <td>6.000000</td>\n",
              "      <td>6.000000</td>\n",
              "    </tr>\n",
              "    <tr>\n",
              "      <th>mean</th>\n",
              "      <td>-0.883486</td>\n",
              "      <td>-0.227633</td>\n",
              "      <td>0.979362</td>\n",
              "      <td>0.218174</td>\n",
              "    </tr>\n",
              "    <tr>\n",
              "      <th>std</th>\n",
              "      <td>1.206858</td>\n",
              "      <td>0.823653</td>\n",
              "      <td>1.004556</td>\n",
              "      <td>0.610642</td>\n",
              "    </tr>\n",
              "    <tr>\n",
              "      <th>min</th>\n",
              "      <td>-2.999731</td>\n",
              "      <td>-1.269124</td>\n",
              "      <td>-0.216370</td>\n",
              "      <td>-0.749784</td>\n",
              "    </tr>\n",
              "    <tr>\n",
              "      <th>25%</th>\n",
              "      <td>-1.032725</td>\n",
              "      <td>-0.674644</td>\n",
              "      <td>0.231692</td>\n",
              "      <td>-0.112819</td>\n",
              "    </tr>\n",
              "    <tr>\n",
              "      <th>50%</th>\n",
              "      <td>-0.830123</td>\n",
              "      <td>-0.238285</td>\n",
              "      <td>0.851369</td>\n",
              "      <td>0.469713</td>\n",
              "    </tr>\n",
              "    <tr>\n",
              "      <th>75%</th>\n",
              "      <td>-0.326738</td>\n",
              "      <td>-0.028107</td>\n",
              "      <td>1.821875</td>\n",
              "      <td>0.539539</td>\n",
              "    </tr>\n",
              "    <tr>\n",
              "      <th>max</th>\n",
              "      <td>0.618266</td>\n",
              "      <td>1.158042</td>\n",
              "      <td>2.219294</td>\n",
              "      <td>0.863583</td>\n",
              "    </tr>\n",
              "  </tbody>\n",
              "</table>\n",
              "</div>"
            ],
            "text/plain": [
              "              A         B         C         D\n",
              "count  6.000000  6.000000  6.000000  6.000000\n",
              "mean  -0.883486 -0.227633  0.979362  0.218174\n",
              "std    1.206858  0.823653  1.004556  0.610642\n",
              "min   -2.999731 -1.269124 -0.216370 -0.749784\n",
              "25%   -1.032725 -0.674644  0.231692 -0.112819\n",
              "50%   -0.830123 -0.238285  0.851369  0.469713\n",
              "75%   -0.326738 -0.028107  1.821875  0.539539\n",
              "max    0.618266  1.158042  2.219294  0.863583"
            ]
          },
          "metadata": {
            "tags": []
          },
          "execution_count": 11
        }
      ]
    },
    {
      "cell_type": "code",
      "metadata": {
        "id": "aggKB-XtjdlQ",
        "outputId": "60f14337-f9a5-44c0-8b53-4cfe02310296",
        "colab": {
          "base_uri": "https://localhost:8080/",
          "height": 234
        }
      },
      "source": [
        "df.sort_values(by='A')   #정렬 기준을 A열의 값으로  오름차순"
      ],
      "execution_count": null,
      "outputs": [
        {
          "output_type": "execute_result",
          "data": {
            "text/html": [
              "<div>\n",
              "<style scoped>\n",
              "    .dataframe tbody tr th:only-of-type {\n",
              "        vertical-align: middle;\n",
              "    }\n",
              "\n",
              "    .dataframe tbody tr th {\n",
              "        vertical-align: top;\n",
              "    }\n",
              "\n",
              "    .dataframe thead th {\n",
              "        text-align: right;\n",
              "    }\n",
              "</style>\n",
              "<table border=\"1\" class=\"dataframe\">\n",
              "  <thead>\n",
              "    <tr style=\"text-align: right;\">\n",
              "      <th></th>\n",
              "      <th>A</th>\n",
              "      <th>B</th>\n",
              "      <th>C</th>\n",
              "      <th>D</th>\n",
              "    </tr>\n",
              "  </thead>\n",
              "  <tbody>\n",
              "    <tr>\n",
              "      <th>2019-03-01</th>\n",
              "      <td>-2.999731</td>\n",
              "      <td>-0.381982</td>\n",
              "      <td>0.127164</td>\n",
              "      <td>-0.749784</td>\n",
              "    </tr>\n",
              "    <tr>\n",
              "      <th>2019-03-05</th>\n",
              "      <td>-1.080972</td>\n",
              "      <td>-1.269124</td>\n",
              "      <td>-0.216370</td>\n",
              "      <td>0.488687</td>\n",
              "    </tr>\n",
              "    <tr>\n",
              "      <th>2019-03-04</th>\n",
              "      <td>-0.887986</td>\n",
              "      <td>-0.772198</td>\n",
              "      <td>1.157464</td>\n",
              "      <td>-0.300672</td>\n",
              "    </tr>\n",
              "    <tr>\n",
              "      <th>2019-03-06</th>\n",
              "      <td>-0.772260</td>\n",
              "      <td>1.158042</td>\n",
              "      <td>2.219294</td>\n",
              "      <td>0.556490</td>\n",
              "    </tr>\n",
              "    <tr>\n",
              "      <th>2019-03-02</th>\n",
              "      <td>-0.178230</td>\n",
              "      <td>-0.094589</td>\n",
              "      <td>2.043345</td>\n",
              "      <td>0.863583</td>\n",
              "    </tr>\n",
              "    <tr>\n",
              "      <th>2019-03-03</th>\n",
              "      <td>0.618266</td>\n",
              "      <td>-0.005946</td>\n",
              "      <td>0.545275</td>\n",
              "      <td>0.450738</td>\n",
              "    </tr>\n",
              "  </tbody>\n",
              "</table>\n",
              "</div>"
            ],
            "text/plain": [
              "                   A         B         C         D\n",
              "2019-03-01 -2.999731 -0.381982  0.127164 -0.749784\n",
              "2019-03-05 -1.080972 -1.269124 -0.216370  0.488687\n",
              "2019-03-04 -0.887986 -0.772198  1.157464 -0.300672\n",
              "2019-03-06 -0.772260  1.158042  2.219294  0.556490\n",
              "2019-03-02 -0.178230 -0.094589  2.043345  0.863583\n",
              "2019-03-03  0.618266 -0.005946  0.545275  0.450738"
            ]
          },
          "metadata": {
            "tags": []
          },
          "execution_count": 12
        }
      ]
    },
    {
      "cell_type": "code",
      "metadata": {
        "id": "GIsDHiZskInq",
        "outputId": "3d0a1e43-cbcc-452e-ec3b-873540d506d0",
        "colab": {
          "base_uri": "https://localhost:8080/",
          "height": 234
        }
      },
      "source": [
        "df.sort_values(by='A', ascending=False)   #정렬 기준을 A열의 값으로  내림차순"
      ],
      "execution_count": null,
      "outputs": [
        {
          "output_type": "execute_result",
          "data": {
            "text/html": [
              "<div>\n",
              "<style scoped>\n",
              "    .dataframe tbody tr th:only-of-type {\n",
              "        vertical-align: middle;\n",
              "    }\n",
              "\n",
              "    .dataframe tbody tr th {\n",
              "        vertical-align: top;\n",
              "    }\n",
              "\n",
              "    .dataframe thead th {\n",
              "        text-align: right;\n",
              "    }\n",
              "</style>\n",
              "<table border=\"1\" class=\"dataframe\">\n",
              "  <thead>\n",
              "    <tr style=\"text-align: right;\">\n",
              "      <th></th>\n",
              "      <th>A</th>\n",
              "      <th>B</th>\n",
              "      <th>C</th>\n",
              "      <th>D</th>\n",
              "    </tr>\n",
              "  </thead>\n",
              "  <tbody>\n",
              "    <tr>\n",
              "      <th>2019-03-03</th>\n",
              "      <td>0.618266</td>\n",
              "      <td>-0.005946</td>\n",
              "      <td>0.545275</td>\n",
              "      <td>0.450738</td>\n",
              "    </tr>\n",
              "    <tr>\n",
              "      <th>2019-03-02</th>\n",
              "      <td>-0.178230</td>\n",
              "      <td>-0.094589</td>\n",
              "      <td>2.043345</td>\n",
              "      <td>0.863583</td>\n",
              "    </tr>\n",
              "    <tr>\n",
              "      <th>2019-03-06</th>\n",
              "      <td>-0.772260</td>\n",
              "      <td>1.158042</td>\n",
              "      <td>2.219294</td>\n",
              "      <td>0.556490</td>\n",
              "    </tr>\n",
              "    <tr>\n",
              "      <th>2019-03-04</th>\n",
              "      <td>-0.887986</td>\n",
              "      <td>-0.772198</td>\n",
              "      <td>1.157464</td>\n",
              "      <td>-0.300672</td>\n",
              "    </tr>\n",
              "    <tr>\n",
              "      <th>2019-03-05</th>\n",
              "      <td>-1.080972</td>\n",
              "      <td>-1.269124</td>\n",
              "      <td>-0.216370</td>\n",
              "      <td>0.488687</td>\n",
              "    </tr>\n",
              "    <tr>\n",
              "      <th>2019-03-01</th>\n",
              "      <td>-2.999731</td>\n",
              "      <td>-0.381982</td>\n",
              "      <td>0.127164</td>\n",
              "      <td>-0.749784</td>\n",
              "    </tr>\n",
              "  </tbody>\n",
              "</table>\n",
              "</div>"
            ],
            "text/plain": [
              "                   A         B         C         D\n",
              "2019-03-03  0.618266 -0.005946  0.545275  0.450738\n",
              "2019-03-02 -0.178230 -0.094589  2.043345  0.863583\n",
              "2019-03-06 -0.772260  1.158042  2.219294  0.556490\n",
              "2019-03-04 -0.887986 -0.772198  1.157464 -0.300672\n",
              "2019-03-05 -1.080972 -1.269124 -0.216370  0.488687\n",
              "2019-03-01 -2.999731 -0.381982  0.127164 -0.749784"
            ]
          },
          "metadata": {
            "tags": []
          },
          "execution_count": 13
        }
      ]
    },
    {
      "cell_type": "code",
      "metadata": {
        "id": "XKCc5Q-NjqU5",
        "outputId": "d7f6cda6-47cc-4da5-c84a-bbf47a8af0df",
        "colab": {
          "base_uri": "https://localhost:8080/",
          "height": 141
        }
      },
      "source": [
        "df[0:3] # 3개의 데이터만 볼때"
      ],
      "execution_count": null,
      "outputs": [
        {
          "output_type": "execute_result",
          "data": {
            "text/html": [
              "<div>\n",
              "<style scoped>\n",
              "    .dataframe tbody tr th:only-of-type {\n",
              "        vertical-align: middle;\n",
              "    }\n",
              "\n",
              "    .dataframe tbody tr th {\n",
              "        vertical-align: top;\n",
              "    }\n",
              "\n",
              "    .dataframe thead th {\n",
              "        text-align: right;\n",
              "    }\n",
              "</style>\n",
              "<table border=\"1\" class=\"dataframe\">\n",
              "  <thead>\n",
              "    <tr style=\"text-align: right;\">\n",
              "      <th></th>\n",
              "      <th>A</th>\n",
              "      <th>B</th>\n",
              "      <th>C</th>\n",
              "      <th>D</th>\n",
              "    </tr>\n",
              "  </thead>\n",
              "  <tbody>\n",
              "    <tr>\n",
              "      <th>2019-03-01</th>\n",
              "      <td>-2.999731</td>\n",
              "      <td>-0.381982</td>\n",
              "      <td>0.127164</td>\n",
              "      <td>-0.749784</td>\n",
              "    </tr>\n",
              "    <tr>\n",
              "      <th>2019-03-02</th>\n",
              "      <td>-0.178230</td>\n",
              "      <td>-0.094589</td>\n",
              "      <td>2.043345</td>\n",
              "      <td>0.863583</td>\n",
              "    </tr>\n",
              "    <tr>\n",
              "      <th>2019-03-03</th>\n",
              "      <td>0.618266</td>\n",
              "      <td>-0.005946</td>\n",
              "      <td>0.545275</td>\n",
              "      <td>0.450738</td>\n",
              "    </tr>\n",
              "  </tbody>\n",
              "</table>\n",
              "</div>"
            ],
            "text/plain": [
              "                   A         B         C         D\n",
              "2019-03-01 -2.999731 -0.381982  0.127164 -0.749784\n",
              "2019-03-02 -0.178230 -0.094589  2.043345  0.863583\n",
              "2019-03-03  0.618266 -0.005946  0.545275  0.450738"
            ]
          },
          "metadata": {
            "tags": []
          },
          "execution_count": 14
        }
      ]
    },
    {
      "cell_type": "code",
      "metadata": {
        "id": "HOI71cHbka-F",
        "outputId": "ce82ab7b-ae18-4669-fe69-36f63530ca36",
        "colab": {
          "base_uri": "https://localhost:8080/"
        }
      },
      "source": [
        "df.loc['2019-03-01']"
      ],
      "execution_count": null,
      "outputs": [
        {
          "output_type": "execute_result",
          "data": {
            "text/plain": [
              "A   -2.999731\n",
              "B   -0.381982\n",
              "C    0.127164\n",
              "D   -0.749784\n",
              "Name: 2019-03-01 00:00:00, dtype: float64"
            ]
          },
          "metadata": {
            "tags": []
          },
          "execution_count": 15
        }
      ]
    },
    {
      "cell_type": "code",
      "metadata": {
        "id": "v0LBPW5BkolZ",
        "outputId": "d4332c63-7b34-4c5d-8e38-ce83461f02cf",
        "colab": {
          "base_uri": "https://localhost:8080/"
        }
      },
      "source": [
        "df.loc['2019-03-01',['A']]"
      ],
      "execution_count": null,
      "outputs": [
        {
          "output_type": "execute_result",
          "data": {
            "text/plain": [
              "A   -2.999731\n",
              "Name: 2019-03-01 00:00:00, dtype: float64"
            ]
          },
          "metadata": {
            "tags": []
          },
          "execution_count": 16
        }
      ]
    },
    {
      "cell_type": "code",
      "metadata": {
        "id": "qMh-AXgjkyPQ",
        "outputId": "501a935a-7b15-4eef-d1b4-56f62979bfe0",
        "colab": {
          "base_uri": "https://localhost:8080/"
        }
      },
      "source": [
        "df.loc['2019-03-01',['A','B']]"
      ],
      "execution_count": null,
      "outputs": [
        {
          "output_type": "execute_result",
          "data": {
            "text/plain": [
              "A   -2.999731\n",
              "B   -0.381982\n",
              "Name: 2019-03-01 00:00:00, dtype: float64"
            ]
          },
          "metadata": {
            "tags": []
          },
          "execution_count": 17
        }
      ]
    },
    {
      "cell_type": "code",
      "metadata": {
        "id": "V76U6iosk4rx",
        "outputId": "2a214917-5c46-465e-d32a-4343a6253609",
        "colab": {
          "base_uri": "https://localhost:8080/",
          "height": 110
        }
      },
      "source": [
        "df.loc['2019-03-01':'2019-03-02',['A','B']]"
      ],
      "execution_count": null,
      "outputs": [
        {
          "output_type": "execute_result",
          "data": {
            "text/html": [
              "<div>\n",
              "<style scoped>\n",
              "    .dataframe tbody tr th:only-of-type {\n",
              "        vertical-align: middle;\n",
              "    }\n",
              "\n",
              "    .dataframe tbody tr th {\n",
              "        vertical-align: top;\n",
              "    }\n",
              "\n",
              "    .dataframe thead th {\n",
              "        text-align: right;\n",
              "    }\n",
              "</style>\n",
              "<table border=\"1\" class=\"dataframe\">\n",
              "  <thead>\n",
              "    <tr style=\"text-align: right;\">\n",
              "      <th></th>\n",
              "      <th>A</th>\n",
              "      <th>B</th>\n",
              "    </tr>\n",
              "  </thead>\n",
              "  <tbody>\n",
              "    <tr>\n",
              "      <th>2019-03-01</th>\n",
              "      <td>-2.999731</td>\n",
              "      <td>-0.381982</td>\n",
              "    </tr>\n",
              "    <tr>\n",
              "      <th>2019-03-02</th>\n",
              "      <td>-0.178230</td>\n",
              "      <td>-0.094589</td>\n",
              "    </tr>\n",
              "  </tbody>\n",
              "</table>\n",
              "</div>"
            ],
            "text/plain": [
              "                   A         B\n",
              "2019-03-01 -2.999731 -0.381982\n",
              "2019-03-02 -0.178230 -0.094589"
            ]
          },
          "metadata": {
            "tags": []
          },
          "execution_count": 18
        }
      ]
    },
    {
      "cell_type": "code",
      "metadata": {
        "id": "LhjRJEwBlD-R",
        "outputId": "a2a3011f-3ab6-45ec-d91a-f852368449ee",
        "colab": {
          "base_uri": "https://localhost:8080/"
        }
      },
      "source": [
        "df['A']>0  #A 열에서 0보다 큰 값만 True"
      ],
      "execution_count": null,
      "outputs": [
        {
          "output_type": "execute_result",
          "data": {
            "text/plain": [
              "2019-03-01    False\n",
              "2019-03-02    False\n",
              "2019-03-03     True\n",
              "2019-03-04    False\n",
              "2019-03-05    False\n",
              "2019-03-06    False\n",
              "Freq: D, Name: A, dtype: bool"
            ]
          },
          "metadata": {
            "tags": []
          },
          "execution_count": 19
        }
      ]
    },
    {
      "cell_type": "code",
      "metadata": {
        "id": "2TkGOpX1lSXZ",
        "outputId": "a042efa8-4c53-4187-a5d2-8dcc467e59ae",
        "colab": {
          "base_uri": "https://localhost:8080/",
          "height": 234
        }
      },
      "source": [
        "df>0\n"
      ],
      "execution_count": null,
      "outputs": [
        {
          "output_type": "execute_result",
          "data": {
            "text/html": [
              "<div>\n",
              "<style scoped>\n",
              "    .dataframe tbody tr th:only-of-type {\n",
              "        vertical-align: middle;\n",
              "    }\n",
              "\n",
              "    .dataframe tbody tr th {\n",
              "        vertical-align: top;\n",
              "    }\n",
              "\n",
              "    .dataframe thead th {\n",
              "        text-align: right;\n",
              "    }\n",
              "</style>\n",
              "<table border=\"1\" class=\"dataframe\">\n",
              "  <thead>\n",
              "    <tr style=\"text-align: right;\">\n",
              "      <th></th>\n",
              "      <th>A</th>\n",
              "      <th>B</th>\n",
              "      <th>C</th>\n",
              "      <th>D</th>\n",
              "    </tr>\n",
              "  </thead>\n",
              "  <tbody>\n",
              "    <tr>\n",
              "      <th>2019-03-01</th>\n",
              "      <td>False</td>\n",
              "      <td>False</td>\n",
              "      <td>True</td>\n",
              "      <td>False</td>\n",
              "    </tr>\n",
              "    <tr>\n",
              "      <th>2019-03-02</th>\n",
              "      <td>False</td>\n",
              "      <td>False</td>\n",
              "      <td>True</td>\n",
              "      <td>True</td>\n",
              "    </tr>\n",
              "    <tr>\n",
              "      <th>2019-03-03</th>\n",
              "      <td>True</td>\n",
              "      <td>False</td>\n",
              "      <td>True</td>\n",
              "      <td>True</td>\n",
              "    </tr>\n",
              "    <tr>\n",
              "      <th>2019-03-04</th>\n",
              "      <td>False</td>\n",
              "      <td>False</td>\n",
              "      <td>True</td>\n",
              "      <td>False</td>\n",
              "    </tr>\n",
              "    <tr>\n",
              "      <th>2019-03-05</th>\n",
              "      <td>False</td>\n",
              "      <td>False</td>\n",
              "      <td>False</td>\n",
              "      <td>True</td>\n",
              "    </tr>\n",
              "    <tr>\n",
              "      <th>2019-03-06</th>\n",
              "      <td>False</td>\n",
              "      <td>True</td>\n",
              "      <td>True</td>\n",
              "      <td>True</td>\n",
              "    </tr>\n",
              "  </tbody>\n",
              "</table>\n",
              "</div>"
            ],
            "text/plain": [
              "                A      B      C      D\n",
              "2019-03-01  False  False   True  False\n",
              "2019-03-02  False  False   True   True\n",
              "2019-03-03   True  False   True   True\n",
              "2019-03-04  False  False   True  False\n",
              "2019-03-05  False  False  False   True\n",
              "2019-03-06  False   True   True   True"
            ]
          },
          "metadata": {
            "tags": []
          },
          "execution_count": 20
        }
      ]
    },
    {
      "cell_type": "code",
      "metadata": {
        "id": "cHVQg4dKle_5"
      },
      "source": [
        "df['E'] = np.nan"
      ],
      "execution_count": null,
      "outputs": []
    },
    {
      "cell_type": "code",
      "metadata": {
        "id": "XbrS3aY_lriJ",
        "outputId": "9d40ed8a-00f9-464d-b9ca-290e94dff39a",
        "colab": {
          "base_uri": "https://localhost:8080/",
          "height": 234
        }
      },
      "source": [
        "df"
      ],
      "execution_count": null,
      "outputs": [
        {
          "output_type": "execute_result",
          "data": {
            "text/html": [
              "<div>\n",
              "<style scoped>\n",
              "    .dataframe tbody tr th:only-of-type {\n",
              "        vertical-align: middle;\n",
              "    }\n",
              "\n",
              "    .dataframe tbody tr th {\n",
              "        vertical-align: top;\n",
              "    }\n",
              "\n",
              "    .dataframe thead th {\n",
              "        text-align: right;\n",
              "    }\n",
              "</style>\n",
              "<table border=\"1\" class=\"dataframe\">\n",
              "  <thead>\n",
              "    <tr style=\"text-align: right;\">\n",
              "      <th></th>\n",
              "      <th>A</th>\n",
              "      <th>B</th>\n",
              "      <th>C</th>\n",
              "      <th>D</th>\n",
              "      <th>E</th>\n",
              "    </tr>\n",
              "  </thead>\n",
              "  <tbody>\n",
              "    <tr>\n",
              "      <th>2019-03-01</th>\n",
              "      <td>-2.999731</td>\n",
              "      <td>-0.381982</td>\n",
              "      <td>0.127164</td>\n",
              "      <td>-0.749784</td>\n",
              "      <td>NaN</td>\n",
              "    </tr>\n",
              "    <tr>\n",
              "      <th>2019-03-02</th>\n",
              "      <td>-0.178230</td>\n",
              "      <td>-0.094589</td>\n",
              "      <td>2.043345</td>\n",
              "      <td>0.863583</td>\n",
              "      <td>NaN</td>\n",
              "    </tr>\n",
              "    <tr>\n",
              "      <th>2019-03-03</th>\n",
              "      <td>0.618266</td>\n",
              "      <td>-0.005946</td>\n",
              "      <td>0.545275</td>\n",
              "      <td>0.450738</td>\n",
              "      <td>NaN</td>\n",
              "    </tr>\n",
              "    <tr>\n",
              "      <th>2019-03-04</th>\n",
              "      <td>-0.887986</td>\n",
              "      <td>-0.772198</td>\n",
              "      <td>1.157464</td>\n",
              "      <td>-0.300672</td>\n",
              "      <td>NaN</td>\n",
              "    </tr>\n",
              "    <tr>\n",
              "      <th>2019-03-05</th>\n",
              "      <td>-1.080972</td>\n",
              "      <td>-1.269124</td>\n",
              "      <td>-0.216370</td>\n",
              "      <td>0.488687</td>\n",
              "      <td>NaN</td>\n",
              "    </tr>\n",
              "    <tr>\n",
              "      <th>2019-03-06</th>\n",
              "      <td>-0.772260</td>\n",
              "      <td>1.158042</td>\n",
              "      <td>2.219294</td>\n",
              "      <td>0.556490</td>\n",
              "      <td>NaN</td>\n",
              "    </tr>\n",
              "  </tbody>\n",
              "</table>\n",
              "</div>"
            ],
            "text/plain": [
              "                   A         B         C         D   E\n",
              "2019-03-01 -2.999731 -0.381982  0.127164 -0.749784 NaN\n",
              "2019-03-02 -0.178230 -0.094589  2.043345  0.863583 NaN\n",
              "2019-03-03  0.618266 -0.005946  0.545275  0.450738 NaN\n",
              "2019-03-04 -0.887986 -0.772198  1.157464 -0.300672 NaN\n",
              "2019-03-05 -1.080972 -1.269124 -0.216370  0.488687 NaN\n",
              "2019-03-06 -0.772260  1.158042  2.219294  0.556490 NaN"
            ]
          },
          "metadata": {
            "tags": []
          },
          "execution_count": 22
        }
      ]
    },
    {
      "cell_type": "code",
      "metadata": {
        "id": "M9S-2BiJls4J"
      },
      "source": [
        "df.loc['2019-03-02',['E']] = 2"
      ],
      "execution_count": null,
      "outputs": []
    },
    {
      "cell_type": "code",
      "metadata": {
        "id": "HRQ0sgvzl8Ph",
        "outputId": "a5c48ee7-a1cf-4de7-c7e5-399172253a73",
        "colab": {
          "base_uri": "https://localhost:8080/",
          "height": 234
        }
      },
      "source": [
        "df\n"
      ],
      "execution_count": null,
      "outputs": [
        {
          "output_type": "execute_result",
          "data": {
            "text/html": [
              "<div>\n",
              "<style scoped>\n",
              "    .dataframe tbody tr th:only-of-type {\n",
              "        vertical-align: middle;\n",
              "    }\n",
              "\n",
              "    .dataframe tbody tr th {\n",
              "        vertical-align: top;\n",
              "    }\n",
              "\n",
              "    .dataframe thead th {\n",
              "        text-align: right;\n",
              "    }\n",
              "</style>\n",
              "<table border=\"1\" class=\"dataframe\">\n",
              "  <thead>\n",
              "    <tr style=\"text-align: right;\">\n",
              "      <th></th>\n",
              "      <th>A</th>\n",
              "      <th>B</th>\n",
              "      <th>C</th>\n",
              "      <th>D</th>\n",
              "      <th>E</th>\n",
              "    </tr>\n",
              "  </thead>\n",
              "  <tbody>\n",
              "    <tr>\n",
              "      <th>2019-03-01</th>\n",
              "      <td>-2.999731</td>\n",
              "      <td>-0.381982</td>\n",
              "      <td>0.127164</td>\n",
              "      <td>-0.749784</td>\n",
              "      <td>NaN</td>\n",
              "    </tr>\n",
              "    <tr>\n",
              "      <th>2019-03-02</th>\n",
              "      <td>-0.178230</td>\n",
              "      <td>-0.094589</td>\n",
              "      <td>2.043345</td>\n",
              "      <td>0.863583</td>\n",
              "      <td>2.0</td>\n",
              "    </tr>\n",
              "    <tr>\n",
              "      <th>2019-03-03</th>\n",
              "      <td>0.618266</td>\n",
              "      <td>-0.005946</td>\n",
              "      <td>0.545275</td>\n",
              "      <td>0.450738</td>\n",
              "      <td>NaN</td>\n",
              "    </tr>\n",
              "    <tr>\n",
              "      <th>2019-03-04</th>\n",
              "      <td>-0.887986</td>\n",
              "      <td>-0.772198</td>\n",
              "      <td>1.157464</td>\n",
              "      <td>-0.300672</td>\n",
              "      <td>NaN</td>\n",
              "    </tr>\n",
              "    <tr>\n",
              "      <th>2019-03-05</th>\n",
              "      <td>-1.080972</td>\n",
              "      <td>-1.269124</td>\n",
              "      <td>-0.216370</td>\n",
              "      <td>0.488687</td>\n",
              "      <td>NaN</td>\n",
              "    </tr>\n",
              "    <tr>\n",
              "      <th>2019-03-06</th>\n",
              "      <td>-0.772260</td>\n",
              "      <td>1.158042</td>\n",
              "      <td>2.219294</td>\n",
              "      <td>0.556490</td>\n",
              "      <td>NaN</td>\n",
              "    </tr>\n",
              "  </tbody>\n",
              "</table>\n",
              "</div>"
            ],
            "text/plain": [
              "                   A         B         C         D    E\n",
              "2019-03-01 -2.999731 -0.381982  0.127164 -0.749784  NaN\n",
              "2019-03-02 -0.178230 -0.094589  2.043345  0.863583  2.0\n",
              "2019-03-03  0.618266 -0.005946  0.545275  0.450738  NaN\n",
              "2019-03-04 -0.887986 -0.772198  1.157464 -0.300672  NaN\n",
              "2019-03-05 -1.080972 -1.269124 -0.216370  0.488687  NaN\n",
              "2019-03-06 -0.772260  1.158042  2.219294  0.556490  NaN"
            ]
          },
          "metadata": {
            "tags": []
          },
          "execution_count": 24
        }
      ]
    },
    {
      "cell_type": "code",
      "metadata": {
        "id": "sloN4at4l-J5"
      },
      "source": [
        "df['F'] = df['A']+df['B']"
      ],
      "execution_count": null,
      "outputs": []
    },
    {
      "cell_type": "code",
      "metadata": {
        "id": "pHbZgGXCpZ9D",
        "outputId": "80f450fc-fbba-494c-c4b5-e1e278a1cabf",
        "colab": {
          "base_uri": "https://localhost:8080/",
          "height": 234
        }
      },
      "source": [
        "df"
      ],
      "execution_count": null,
      "outputs": [
        {
          "output_type": "execute_result",
          "data": {
            "text/html": [
              "<div>\n",
              "<style scoped>\n",
              "    .dataframe tbody tr th:only-of-type {\n",
              "        vertical-align: middle;\n",
              "    }\n",
              "\n",
              "    .dataframe tbody tr th {\n",
              "        vertical-align: top;\n",
              "    }\n",
              "\n",
              "    .dataframe thead th {\n",
              "        text-align: right;\n",
              "    }\n",
              "</style>\n",
              "<table border=\"1\" class=\"dataframe\">\n",
              "  <thead>\n",
              "    <tr style=\"text-align: right;\">\n",
              "      <th></th>\n",
              "      <th>A</th>\n",
              "      <th>B</th>\n",
              "      <th>C</th>\n",
              "      <th>D</th>\n",
              "      <th>E</th>\n",
              "      <th>F</th>\n",
              "    </tr>\n",
              "  </thead>\n",
              "  <tbody>\n",
              "    <tr>\n",
              "      <th>2019-03-01</th>\n",
              "      <td>-2.999731</td>\n",
              "      <td>-0.381982</td>\n",
              "      <td>0.127164</td>\n",
              "      <td>-0.749784</td>\n",
              "      <td>NaN</td>\n",
              "      <td>-3.381713</td>\n",
              "    </tr>\n",
              "    <tr>\n",
              "      <th>2019-03-02</th>\n",
              "      <td>-0.178230</td>\n",
              "      <td>-0.094589</td>\n",
              "      <td>2.043345</td>\n",
              "      <td>0.863583</td>\n",
              "      <td>2.0</td>\n",
              "      <td>-0.272819</td>\n",
              "    </tr>\n",
              "    <tr>\n",
              "      <th>2019-03-03</th>\n",
              "      <td>0.618266</td>\n",
              "      <td>-0.005946</td>\n",
              "      <td>0.545275</td>\n",
              "      <td>0.450738</td>\n",
              "      <td>NaN</td>\n",
              "      <td>0.612320</td>\n",
              "    </tr>\n",
              "    <tr>\n",
              "      <th>2019-03-04</th>\n",
              "      <td>-0.887986</td>\n",
              "      <td>-0.772198</td>\n",
              "      <td>1.157464</td>\n",
              "      <td>-0.300672</td>\n",
              "      <td>NaN</td>\n",
              "      <td>-1.660183</td>\n",
              "    </tr>\n",
              "    <tr>\n",
              "      <th>2019-03-05</th>\n",
              "      <td>-1.080972</td>\n",
              "      <td>-1.269124</td>\n",
              "      <td>-0.216370</td>\n",
              "      <td>0.488687</td>\n",
              "      <td>NaN</td>\n",
              "      <td>-2.350096</td>\n",
              "    </tr>\n",
              "    <tr>\n",
              "      <th>2019-03-06</th>\n",
              "      <td>-0.772260</td>\n",
              "      <td>1.158042</td>\n",
              "      <td>2.219294</td>\n",
              "      <td>0.556490</td>\n",
              "      <td>NaN</td>\n",
              "      <td>0.385782</td>\n",
              "    </tr>\n",
              "  </tbody>\n",
              "</table>\n",
              "</div>"
            ],
            "text/plain": [
              "                   A         B         C         D    E         F\n",
              "2019-03-01 -2.999731 -0.381982  0.127164 -0.749784  NaN -3.381713\n",
              "2019-03-02 -0.178230 -0.094589  2.043345  0.863583  2.0 -0.272819\n",
              "2019-03-03  0.618266 -0.005946  0.545275  0.450738  NaN  0.612320\n",
              "2019-03-04 -0.887986 -0.772198  1.157464 -0.300672  NaN -1.660183\n",
              "2019-03-05 -1.080972 -1.269124 -0.216370  0.488687  NaN -2.350096\n",
              "2019-03-06 -0.772260  1.158042  2.219294  0.556490  NaN  0.385782"
            ]
          },
          "metadata": {
            "tags": []
          },
          "execution_count": 26
        }
      ]
    },
    {
      "cell_type": "markdown",
      "metadata": {
        "id": "va1sOIFsp0u2"
      },
      "source": [
        "######## 데이터 분석 시작 #############"
      ]
    },
    {
      "cell_type": "code",
      "metadata": {
        "id": "9cZAIJ1zpa7J",
        "outputId": "87c5e6c3-fdb5-40de-f409-3fd6edeee6cb",
        "colab": {
          "base_uri": "https://localhost:8080/",
          "height": 161
        }
      },
      "source": [
        "pd.read_excel(\"teenagemental.xls\")"
      ],
      "execution_count": null,
      "outputs": [
        {
          "output_type": "execute_result",
          "data": {
            "text/html": [
              "<div>\n",
              "<style scoped>\n",
              "    .dataframe tbody tr th:only-of-type {\n",
              "        vertical-align: middle;\n",
              "    }\n",
              "\n",
              "    .dataframe tbody tr th {\n",
              "        vertical-align: top;\n",
              "    }\n",
              "\n",
              "    .dataframe thead th {\n",
              "        text-align: right;\n",
              "    }\n",
              "</style>\n",
              "<table border=\"1\" class=\"dataframe\">\n",
              "  <thead>\n",
              "    <tr style=\"text-align: right;\">\n",
              "      <th></th>\n",
              "      <th>기간</th>\n",
              "      <th>구분</th>\n",
              "      <th>스트레스 인지율</th>\n",
              "      <th>스트레스 인지율.1</th>\n",
              "      <th>스트레스 인지율.2</th>\n",
              "      <th>우울감 경험률</th>\n",
              "      <th>우울감 경험률.1</th>\n",
              "      <th>우울감 경험률.2</th>\n",
              "      <th>자살 생각률</th>\n",
              "      <th>자살 생각률.1</th>\n",
              "      <th>자살 생각률.2</th>\n",
              "    </tr>\n",
              "  </thead>\n",
              "  <tbody>\n",
              "    <tr>\n",
              "      <th>0</th>\n",
              "      <td>기간</td>\n",
              "      <td>구분</td>\n",
              "      <td>전체</td>\n",
              "      <td>남학생</td>\n",
              "      <td>여학생</td>\n",
              "      <td>전체</td>\n",
              "      <td>남학생</td>\n",
              "      <td>여학생</td>\n",
              "      <td>전체</td>\n",
              "      <td>남학생</td>\n",
              "      <td>여학생</td>\n",
              "    </tr>\n",
              "    <tr>\n",
              "      <th>1</th>\n",
              "      <td>2018</td>\n",
              "      <td>구분</td>\n",
              "      <td>42.7</td>\n",
              "      <td>34.5</td>\n",
              "      <td>51.5</td>\n",
              "      <td>29.6</td>\n",
              "      <td>24.2</td>\n",
              "      <td>35.4</td>\n",
              "      <td>15.4</td>\n",
              "      <td>11.8</td>\n",
              "      <td>19.2</td>\n",
              "    </tr>\n",
              "  </tbody>\n",
              "</table>\n",
              "</div>"
            ],
            "text/plain": [
              "     기간  구분  스트레스 인지율 스트레스 인지율.1  ... 우울감 경험률.2 자살 생각률 자살 생각률.1 자살 생각률.2\n",
              "0    기간  구분        전체        남학생  ...       여학생     전체      남학생      여학생\n",
              "1  2018   구분     42.7       34.5  ...      35.4   15.4     11.8     19.2\n",
              "\n",
              "[2 rows x 11 columns]"
            ]
          },
          "metadata": {
            "tags": []
          },
          "execution_count": 27
        }
      ]
    },
    {
      "cell_type": "markdown",
      "metadata": {
        "id": "xMfmYMuYqIA1"
      },
      "source": [
        "# 분석의 목표  \n",
        "# 첫 분석은 데이터를 그림으로 표현하자 \n",
        "# 그림으로 표현하기 편하게 \n",
        "# 표현 바꾼다\n",
        "# 그렇다 / 아니다 로 변환/변경하자. \n",
        "\n"
      ]
    },
    {
      "cell_type": "code",
      "metadata": {
        "id": "lOgRBV4op97n",
        "outputId": "de3c6e70-b96b-47a7-d504-59b82d951423",
        "colab": {
          "base_uri": "https://localhost:8080/",
          "height": 79
        }
      },
      "source": [
        "pd.read_excel(\"teenagemental.xls\", header=1) # 헤더 날리고 가져오기"
      ],
      "execution_count": null,
      "outputs": [
        {
          "output_type": "execute_result",
          "data": {
            "text/html": [
              "<div>\n",
              "<style scoped>\n",
              "    .dataframe tbody tr th:only-of-type {\n",
              "        vertical-align: middle;\n",
              "    }\n",
              "\n",
              "    .dataframe tbody tr th {\n",
              "        vertical-align: top;\n",
              "    }\n",
              "\n",
              "    .dataframe thead th {\n",
              "        text-align: right;\n",
              "    }\n",
              "</style>\n",
              "<table border=\"1\" class=\"dataframe\">\n",
              "  <thead>\n",
              "    <tr style=\"text-align: right;\">\n",
              "      <th></th>\n",
              "      <th>기간</th>\n",
              "      <th>구분</th>\n",
              "      <th>전체</th>\n",
              "      <th>남학생</th>\n",
              "      <th>여학생</th>\n",
              "      <th>전체.1</th>\n",
              "      <th>남학생.1</th>\n",
              "      <th>여학생.1</th>\n",
              "      <th>전체.2</th>\n",
              "      <th>남학생.2</th>\n",
              "      <th>여학생.2</th>\n",
              "    </tr>\n",
              "  </thead>\n",
              "  <tbody>\n",
              "    <tr>\n",
              "      <th>0</th>\n",
              "      <td>2018</td>\n",
              "      <td>구분</td>\n",
              "      <td>42.7</td>\n",
              "      <td>34.5</td>\n",
              "      <td>51.5</td>\n",
              "      <td>29.6</td>\n",
              "      <td>24.2</td>\n",
              "      <td>35.4</td>\n",
              "      <td>15.4</td>\n",
              "      <td>11.8</td>\n",
              "      <td>19.2</td>\n",
              "    </tr>\n",
              "  </tbody>\n",
              "</table>\n",
              "</div>"
            ],
            "text/plain": [
              "     기간 구분     전체   남학생   여학생  전체.1  남학생.1  여학생.1  전체.2  남학생.2  여학생.2\n",
              "0  2018  구분  42.7  34.5  51.5  29.6   24.2   35.4  15.4   11.8   19.2"
            ]
          },
          "metadata": {
            "tags": []
          },
          "execution_count": 28
        }
      ]
    },
    {
      "cell_type": "code",
      "metadata": {
        "id": "2pKgq1KOrWKj",
        "outputId": "d9a534b2-3895-4af4-a91c-44eba5501384",
        "colab": {
          "base_uri": "https://localhost:8080/",
          "height": 79
        }
      },
      "source": [
        "pd.read_excel(\"teenagemental.xls\", header=1,usecols=\"C:K\")   # 헤어 날리고 필요한 열만 골라서 가져오기"
      ],
      "execution_count": null,
      "outputs": [
        {
          "output_type": "execute_result",
          "data": {
            "text/html": [
              "<div>\n",
              "<style scoped>\n",
              "    .dataframe tbody tr th:only-of-type {\n",
              "        vertical-align: middle;\n",
              "    }\n",
              "\n",
              "    .dataframe tbody tr th {\n",
              "        vertical-align: top;\n",
              "    }\n",
              "\n",
              "    .dataframe thead th {\n",
              "        text-align: right;\n",
              "    }\n",
              "</style>\n",
              "<table border=\"1\" class=\"dataframe\">\n",
              "  <thead>\n",
              "    <tr style=\"text-align: right;\">\n",
              "      <th></th>\n",
              "      <th>전체</th>\n",
              "      <th>남학생</th>\n",
              "      <th>여학생</th>\n",
              "      <th>전체.1</th>\n",
              "      <th>남학생.1</th>\n",
              "      <th>여학생.1</th>\n",
              "      <th>전체.2</th>\n",
              "      <th>남학생.2</th>\n",
              "      <th>여학생.2</th>\n",
              "    </tr>\n",
              "  </thead>\n",
              "  <tbody>\n",
              "    <tr>\n",
              "      <th>0</th>\n",
              "      <td>42.7</td>\n",
              "      <td>34.5</td>\n",
              "      <td>51.5</td>\n",
              "      <td>29.6</td>\n",
              "      <td>24.2</td>\n",
              "      <td>35.4</td>\n",
              "      <td>15.4</td>\n",
              "      <td>11.8</td>\n",
              "      <td>19.2</td>\n",
              "    </tr>\n",
              "  </tbody>\n",
              "</table>\n",
              "</div>"
            ],
            "text/plain": [
              "     전체   남학생   여학생  전체.1  남학생.1  여학생.1  전체.2  남학생.2  여학생.2\n",
              "0  42.7  34.5  51.5  29.6   24.2   35.4  15.4   11.8   19.2"
            ]
          },
          "metadata": {
            "tags": []
          },
          "execution_count": 29
        }
      ]
    },
    {
      "cell_type": "code",
      "metadata": {
        "id": "RsBN6LP5sFPx",
        "outputId": "f05dbe87-d286-4f88-f33c-6828dd4aee78",
        "colab": {
          "base_uri": "https://localhost:8080/",
          "height": 79
        }
      },
      "source": [
        "col_names=['스트레스','스트레스남학생','스트레스여학생','우울감경험률','우울남학생','우울여학생','자살생각율','자살남학생','자살여학생']\n",
        "pd.read_excel(\"teenagemental.xls\", header=1,usecols=\"C:K\",names=col_names)\n"
      ],
      "execution_count": null,
      "outputs": [
        {
          "output_type": "execute_result",
          "data": {
            "text/html": [
              "<div>\n",
              "<style scoped>\n",
              "    .dataframe tbody tr th:only-of-type {\n",
              "        vertical-align: middle;\n",
              "    }\n",
              "\n",
              "    .dataframe tbody tr th {\n",
              "        vertical-align: top;\n",
              "    }\n",
              "\n",
              "    .dataframe thead th {\n",
              "        text-align: right;\n",
              "    }\n",
              "</style>\n",
              "<table border=\"1\" class=\"dataframe\">\n",
              "  <thead>\n",
              "    <tr style=\"text-align: right;\">\n",
              "      <th></th>\n",
              "      <th>스트레스</th>\n",
              "      <th>스트레스남학생</th>\n",
              "      <th>스트레스여학생</th>\n",
              "      <th>우울감경험률</th>\n",
              "      <th>우울남학생</th>\n",
              "      <th>우울여학생</th>\n",
              "      <th>자살생각율</th>\n",
              "      <th>자살남학생</th>\n",
              "      <th>자살여학생</th>\n",
              "    </tr>\n",
              "  </thead>\n",
              "  <tbody>\n",
              "    <tr>\n",
              "      <th>0</th>\n",
              "      <td>42.7</td>\n",
              "      <td>34.5</td>\n",
              "      <td>51.5</td>\n",
              "      <td>29.6</td>\n",
              "      <td>24.2</td>\n",
              "      <td>35.4</td>\n",
              "      <td>15.4</td>\n",
              "      <td>11.8</td>\n",
              "      <td>19.2</td>\n",
              "    </tr>\n",
              "  </tbody>\n",
              "</table>\n",
              "</div>"
            ],
            "text/plain": [
              "   스트레스  스트레스남학생  스트레스여학생  우울감경험률  우울남학생  우울여학생  자살생각율  자살남학생  자살여학생\n",
              "0  42.7     34.5     51.5    29.6   24.2   35.4   15.4   11.8   19.2"
            ]
          },
          "metadata": {
            "tags": []
          },
          "execution_count": 30
        }
      ]
    },
    {
      "cell_type": "code",
      "metadata": {
        "id": "dDDWFJVks3Xj"
      },
      "source": [
        "col_names=['스트레스','스트레스남학생','스트레스여학생','우울감경험률','우울남학생','우울여학생','자살생각율','자살남학생','자살여학생']\n",
        "raw_data = pd.read_excel(\"teenagemental.xls\", \n",
        "              header=1,\n",
        "              usecols=\"C:K\",\n",
        "              names=col_names)"
      ],
      "execution_count": null,
      "outputs": []
    },
    {
      "cell_type": "code",
      "metadata": {
        "id": "xBfF0santLKJ"
      },
      "source": [
        "raw_data.loc[1] = 100.- raw_data.loc[0]"
      ],
      "execution_count": null,
      "outputs": []
    },
    {
      "cell_type": "code",
      "metadata": {
        "id": "_vbzlMmTtywI",
        "outputId": "7231aa4e-0fca-4a5a-8aba-39efb8c7dc0f",
        "colab": {
          "base_uri": "https://localhost:8080/",
          "height": 110
        }
      },
      "source": [
        "raw_data"
      ],
      "execution_count": null,
      "outputs": [
        {
          "output_type": "execute_result",
          "data": {
            "text/html": [
              "<div>\n",
              "<style scoped>\n",
              "    .dataframe tbody tr th:only-of-type {\n",
              "        vertical-align: middle;\n",
              "    }\n",
              "\n",
              "    .dataframe tbody tr th {\n",
              "        vertical-align: top;\n",
              "    }\n",
              "\n",
              "    .dataframe thead th {\n",
              "        text-align: right;\n",
              "    }\n",
              "</style>\n",
              "<table border=\"1\" class=\"dataframe\">\n",
              "  <thead>\n",
              "    <tr style=\"text-align: right;\">\n",
              "      <th></th>\n",
              "      <th>스트레스</th>\n",
              "      <th>스트레스남학생</th>\n",
              "      <th>스트레스여학생</th>\n",
              "      <th>우울감경험률</th>\n",
              "      <th>우울남학생</th>\n",
              "      <th>우울여학생</th>\n",
              "      <th>자살생각율</th>\n",
              "      <th>자살남학생</th>\n",
              "      <th>자살여학생</th>\n",
              "    </tr>\n",
              "  </thead>\n",
              "  <tbody>\n",
              "    <tr>\n",
              "      <th>0</th>\n",
              "      <td>42.7</td>\n",
              "      <td>34.5</td>\n",
              "      <td>51.5</td>\n",
              "      <td>29.6</td>\n",
              "      <td>24.2</td>\n",
              "      <td>35.4</td>\n",
              "      <td>15.4</td>\n",
              "      <td>11.8</td>\n",
              "      <td>19.2</td>\n",
              "    </tr>\n",
              "    <tr>\n",
              "      <th>1</th>\n",
              "      <td>57.3</td>\n",
              "      <td>65.5</td>\n",
              "      <td>48.5</td>\n",
              "      <td>70.4</td>\n",
              "      <td>75.8</td>\n",
              "      <td>64.6</td>\n",
              "      <td>84.6</td>\n",
              "      <td>88.2</td>\n",
              "      <td>80.8</td>\n",
              "    </tr>\n",
              "  </tbody>\n",
              "</table>\n",
              "</div>"
            ],
            "text/plain": [
              "   스트레스  스트레스남학생  스트레스여학생  우울감경험률  우울남학생  우울여학생  자살생각율  자살남학생  자살여학생\n",
              "0  42.7     34.5     51.5    29.6   24.2   35.4   15.4   11.8   19.2\n",
              "1  57.3     65.5     48.5    70.4   75.8   64.6   84.6   88.2   80.8"
            ]
          },
          "metadata": {
            "tags": []
          },
          "execution_count": 33
        }
      ]
    },
    {
      "cell_type": "code",
      "metadata": {
        "id": "vx3x6Dcgt_mp"
      },
      "source": [
        "raw_data['응답'] = ['그렇다','아니다']"
      ],
      "execution_count": null,
      "outputs": []
    },
    {
      "cell_type": "code",
      "metadata": {
        "id": "x2ENNNH5uh9x",
        "outputId": "11af3cbb-4068-4019-cc33-cadf805d1606",
        "colab": {
          "base_uri": "https://localhost:8080/",
          "height": 127
        }
      },
      "source": [
        "raw_data"
      ],
      "execution_count": null,
      "outputs": [
        {
          "output_type": "execute_result",
          "data": {
            "text/html": [
              "<div>\n",
              "<style scoped>\n",
              "    .dataframe tbody tr th:only-of-type {\n",
              "        vertical-align: middle;\n",
              "    }\n",
              "\n",
              "    .dataframe tbody tr th {\n",
              "        vertical-align: top;\n",
              "    }\n",
              "\n",
              "    .dataframe thead th {\n",
              "        text-align: right;\n",
              "    }\n",
              "</style>\n",
              "<table border=\"1\" class=\"dataframe\">\n",
              "  <thead>\n",
              "    <tr style=\"text-align: right;\">\n",
              "      <th></th>\n",
              "      <th>스트레스</th>\n",
              "      <th>스트레스남학생</th>\n",
              "      <th>스트레스여학생</th>\n",
              "      <th>우울감경험률</th>\n",
              "      <th>우울남학생</th>\n",
              "      <th>우울여학생</th>\n",
              "      <th>자살생각율</th>\n",
              "      <th>자살남학생</th>\n",
              "      <th>자살여학생</th>\n",
              "      <th>응답</th>\n",
              "    </tr>\n",
              "  </thead>\n",
              "  <tbody>\n",
              "    <tr>\n",
              "      <th>0</th>\n",
              "      <td>42.7</td>\n",
              "      <td>34.5</td>\n",
              "      <td>51.5</td>\n",
              "      <td>29.6</td>\n",
              "      <td>24.2</td>\n",
              "      <td>35.4</td>\n",
              "      <td>15.4</td>\n",
              "      <td>11.8</td>\n",
              "      <td>19.2</td>\n",
              "      <td>그렇다</td>\n",
              "    </tr>\n",
              "    <tr>\n",
              "      <th>1</th>\n",
              "      <td>57.3</td>\n",
              "      <td>65.5</td>\n",
              "      <td>48.5</td>\n",
              "      <td>70.4</td>\n",
              "      <td>75.8</td>\n",
              "      <td>64.6</td>\n",
              "      <td>84.6</td>\n",
              "      <td>88.2</td>\n",
              "      <td>80.8</td>\n",
              "      <td>아니다</td>\n",
              "    </tr>\n",
              "  </tbody>\n",
              "</table>\n",
              "</div>"
            ],
            "text/plain": [
              "   스트레스  스트레스남학생  스트레스여학생  우울감경험률  우울남학생  우울여학생  자살생각율  자살남학생  자살여학생   응답\n",
              "0  42.7     34.5     51.5    29.6   24.2   35.4   15.4   11.8   19.2  그렇다\n",
              "1  57.3     65.5     48.5    70.4   75.8   64.6   84.6   88.2   80.8  아니다"
            ]
          },
          "metadata": {
            "tags": []
          },
          "execution_count": 35
        }
      ]
    },
    {
      "cell_type": "code",
      "metadata": {
        "id": "nNI3rqjgujQw"
      },
      "source": [
        "raw_data.set_index('응답',drop=True, inplace=True)"
      ],
      "execution_count": null,
      "outputs": []
    },
    {
      "cell_type": "code",
      "metadata": {
        "id": "DR-sm5Ddu_2Z",
        "outputId": "ea1cd9f7-0832-4ea5-a093-571edf7d0688",
        "colab": {
          "base_uri": "https://localhost:8080/",
          "height": 141
        }
      },
      "source": [
        "raw_data"
      ],
      "execution_count": null,
      "outputs": [
        {
          "output_type": "execute_result",
          "data": {
            "text/html": [
              "<div>\n",
              "<style scoped>\n",
              "    .dataframe tbody tr th:only-of-type {\n",
              "        vertical-align: middle;\n",
              "    }\n",
              "\n",
              "    .dataframe tbody tr th {\n",
              "        vertical-align: top;\n",
              "    }\n",
              "\n",
              "    .dataframe thead th {\n",
              "        text-align: right;\n",
              "    }\n",
              "</style>\n",
              "<table border=\"1\" class=\"dataframe\">\n",
              "  <thead>\n",
              "    <tr style=\"text-align: right;\">\n",
              "      <th></th>\n",
              "      <th>스트레스</th>\n",
              "      <th>스트레스남학생</th>\n",
              "      <th>스트레스여학생</th>\n",
              "      <th>우울감경험률</th>\n",
              "      <th>우울남학생</th>\n",
              "      <th>우울여학생</th>\n",
              "      <th>자살생각율</th>\n",
              "      <th>자살남학생</th>\n",
              "      <th>자살여학생</th>\n",
              "    </tr>\n",
              "    <tr>\n",
              "      <th>응답</th>\n",
              "      <th></th>\n",
              "      <th></th>\n",
              "      <th></th>\n",
              "      <th></th>\n",
              "      <th></th>\n",
              "      <th></th>\n",
              "      <th></th>\n",
              "      <th></th>\n",
              "      <th></th>\n",
              "    </tr>\n",
              "  </thead>\n",
              "  <tbody>\n",
              "    <tr>\n",
              "      <th>그렇다</th>\n",
              "      <td>42.7</td>\n",
              "      <td>34.5</td>\n",
              "      <td>51.5</td>\n",
              "      <td>29.6</td>\n",
              "      <td>24.2</td>\n",
              "      <td>35.4</td>\n",
              "      <td>15.4</td>\n",
              "      <td>11.8</td>\n",
              "      <td>19.2</td>\n",
              "    </tr>\n",
              "    <tr>\n",
              "      <th>아니다</th>\n",
              "      <td>57.3</td>\n",
              "      <td>65.5</td>\n",
              "      <td>48.5</td>\n",
              "      <td>70.4</td>\n",
              "      <td>75.8</td>\n",
              "      <td>64.6</td>\n",
              "      <td>84.6</td>\n",
              "      <td>88.2</td>\n",
              "      <td>80.8</td>\n",
              "    </tr>\n",
              "  </tbody>\n",
              "</table>\n",
              "</div>"
            ],
            "text/plain": [
              "     스트레스  스트레스남학생  스트레스여학생  우울감경험률  우울남학생  우울여학생  자살생각율  자살남학생  자살여학생\n",
              "응답                                                                    \n",
              "그렇다  42.7     34.5     51.5    29.6   24.2   35.4   15.4   11.8   19.2\n",
              "아니다  57.3     65.5     48.5    70.4   75.8   64.6   84.6   88.2   80.8"
            ]
          },
          "metadata": {
            "tags": []
          },
          "execution_count": 37
        }
      ]
    },
    {
      "cell_type": "code",
      "metadata": {
        "id": "nqt0GuGEvEvx",
        "outputId": "9acd95f3-144c-47a7-f2d7-c449786e774d",
        "colab": {
          "base_uri": "https://localhost:8080/",
          "height": 284
        }
      },
      "source": [
        "%matplotlib inline  \n",
        "import matplotlib as mpl  # 기본 설정 만지는 용도\n",
        "import matplotlib.pyplot as plt  # 그래프 그리는 용도\n",
        "import matplotlib.font_manager as fm  # 폰트 관련 용도\n",
        "!apt-get update -qq\n",
        "!apt-get install fonts-nanum* -qq\n",
        "path = '/usr/share/fonts/truetype/nanum/NanumGothicEco.ttf'  # 설치된 나눔글꼴중 원하는 녀석의 전체 경로를 가져오자\n",
        "font_name = fm.FontProperties(fname=path, size=10).get_name()\n",
        "print(font_name)\n",
        "plt.rc('font', family=font_name)\n",
        "# 우선 fm._rebuild() 를 해주고\n",
        "fm._rebuild()\n",
        "mpl.rcParams['axes.unicode_minus'] = False#마이너스 기호 나오게\n",
        "\n",
        "\n",
        "\n",
        "raw_data['스트레스'].plot.pie()"
      ],
      "execution_count": null,
      "outputs": [
        {
          "output_type": "stream",
          "text": [
            "NanumGothic Eco\n"
          ],
          "name": "stdout"
        },
        {
          "output_type": "execute_result",
          "data": {
            "text/plain": [
              "<matplotlib.axes._subplots.AxesSubplot at 0x7f8d4a8365f8>"
            ]
          },
          "metadata": {
            "tags": []
          },
          "execution_count": 38
        },
        {
          "output_type": "display_data",
          "data": {
            "image/png": "[encoded data removed]",
            "text/plain": [
              "<Figure size 432x288 with 1 Axes>"
            ]
          },
          "metadata": {
            "tags": []
          }
        }
      ]
    },
    {
      "cell_type": "code",
      "metadata": {
        "id": "SUy33POlviyB",
        "outputId": "82811402-aeed-4109-d0e9-e87ee6b3cd40",
        "colab": {
          "base_uri": "https://localhost:8080/",
          "height": 266
        }
      },
      "source": [
        "raw_data['스트레스'].plot.pie(explode=[0,0.02])    # 분리, 보통은 값을 강조할 때 사용"
      ],
      "execution_count": null,
      "outputs": [
        {
          "output_type": "execute_result",
          "data": {
            "text/plain": [
              "<matplotlib.axes._subplots.AxesSubplot at 0x7f8d4b6cc2b0>"
            ]
          },
          "metadata": {
            "tags": []
          },
          "execution_count": 39
        },
        {
          "output_type": "display_data",
          "data": {
            "image/png": "[encoded data removed]",
            "text/plain": [
              "<Figure size 432x288 with 1 Axes>"
            ]
          },
          "metadata": {
            "tags": []
          }
        }
      ]
    },
    {
      "cell_type": "code",
      "metadata": {
        "id": "XjvMcNT7w1DY",
        "outputId": "ad90e530-9c1e-4ca9-ba75-182d05b9c7b7",
        "colab": {
          "base_uri": "https://localhost:8080/",
          "height": 326
        }
      },
      "source": [
        "f, ax = plt.subplots(1,3,figsize=(16,8))\n",
        "\n",
        "raw_data['스트레스'].plot.pie(explode=[0,0.02], ax= ax[0], autopct='%1.1f%%')\n",
        "ax[0].set_title('스트레스를 받은적 있다')\n",
        "ax[0].set_ylabel('')\n",
        "\n",
        "raw_data['우울감경험률'].plot.pie(explode=[0,0.02], ax= ax[1], autopct='%1.1f%%')\n",
        "ax[1].set_title('우울감을 경험한적 있다')\n",
        "ax[1].set_ylabel('')\n",
        "\n",
        "raw_data['자살생각율'].plot.pie(explode=[0,0.02], ax= ax[2], autopct='%1.1f%%')\n",
        "ax[2].set_title('자살을 고민한적 있다')\n",
        "ax[2].set_ylabel('')\n"
      ],
      "execution_count": null,
      "outputs": [
        {
          "output_type": "execute_result",
          "data": {
            "text/plain": [
              "Text(0, 0.5, '')"
            ]
          },
          "metadata": {
            "tags": []
          },
          "execution_count": 40
        },
        {
          "output_type": "display_data",
          "data": {
            "image/png": "[encoded data removed]",
            "text/plain": [
              "<Figure size 1152x576 with 3 Axes>"
            ]
          },
          "metadata": {
            "tags": []
          }
        }
      ]
    }
  ]
}